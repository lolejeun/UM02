{
 "cells": [
  {
   "cell_type": "markdown",
   "metadata": {},
   "source": [
    "# UM02 \n",
    "## Bar visualization "
   ]
  },
  {
   "cell_type": "markdown",
   "metadata": {},
   "source": [
    "### Import database\n"
   ]
  },
  {
   "cell_type": "code",
   "execution_count": 2,
   "metadata": {},
   "outputs": [],
   "source": [
    "import sqlite3\n",
    "\n",
    "#connection\n",
    "conn = sqlite3.connect('UTSEUS-shanghai-dianping.db')\n",
    "c = conn.cursor()\n",
    "\n",
    "#request \n",
    "c.execute('SELECT name, latitude, longitude, avg_rating, category, avg_price, address, product_score, decoration_score, service_score FROM venues, venue_categories WHERE venues.business_id = venue_categories.business_id')\n",
    "venues = c.fetchall()"
   ]
  },
  {
   "cell_type": "code",
   "execution_count": 3,
   "metadata": {},
   "outputs": [
    {
     "name": "stdout",
     "output_type": "stream",
     "text": [
      "120.00567568355486 40.0013047896019\n"
     ]
    }
   ],
   "source": [
    "from coord_convert.transform import wgs2gcj, wgs2bd, gcj2wgs, gcj2bd, bd2wgs, bd2gcj \n",
    "lon, lat = 120, 40\n",
    "gcj_lon, gcj_lat = wgs2gcj(lon, lat)\n",
    "bd_lon, bd_lat = wgs2bd(lon, lat)\n",
    "print(gcj_lon, gcj_lat) # the result should be: 120.00567568355486 40.0013047896019"
   ]
  },
  {
   "cell_type": "markdown",
   "metadata": {},
   "source": [
    "### Clean data and make dataframe"
   ]
  },
  {
   "cell_type": "code",
   "execution_count": 4,
   "metadata": {},
   "outputs": [],
   "source": [
    "import pandas as pd \n",
    "\n",
    "labelsD= ['name','latitude', 'longitude', 'scores','category', 'price', 'address', 'product', 'decoration', 'service']\n",
    "df_Dianping = pd.DataFrame.from_records(venues, columns=labelsD)\n",
    "\n",
    "# remove duplicate\n",
    "df_Dianping = df_Dianping.drop_duplicates(subset=['name'], keep='first')\n",
    "#only bar\n",
    "df_Bar = df_Dianping[['酒吧' in cat for cat in df_Dianping['category']]]\n",
    "#only price existing\n",
    "df_Bar = df_Bar[(df_Bar['price'] > 0)]\n",
    "#only ranking \n",
    "df_Bar = df_Bar[(df_Bar['scores'] > 0)]\n"
   ]
  },
  {
   "cell_type": "code",
   "execution_count": 5,
   "metadata": {},
   "outputs": [],
   "source": [
    "for i in range(427):\n",
    "    df_Bar['name'].values[i] = df_Bar['name'].values[i].split('(这是')[0]"
   ]
  },
  {
   "cell_type": "code",
   "execution_count": 12,
   "metadata": {},
   "outputs": [],
   "source": [
    "# correct coordinates \n",
    "from coord_convert.transform import wgs2gcj, wgs2bd, gcj2wgs, gcj2bd, bd2wgs, bd2gcj \n",
    "for j in range(427):\n",
    "    df_Bar['longitude'].values[j], df_Bar['latitude'].values[j] = gcj2wgs(df_Bar['longitude'].values[j],df_Bar['latitude'].values[j])\n"
   ]
  },
  {
   "cell_type": "markdown",
   "metadata": {},
   "source": [
    "### Create a new csv "
   ]
  },
  {
   "cell_type": "code",
   "execution_count": 11,
   "metadata": {},
   "outputs": [],
   "source": [
    "df_Bar.to_csv('bar.csv', sep='\\t', encoding='utf-8')"
   ]
  },
  {
   "cell_type": "markdown",
   "metadata": {},
   "source": [
    "### Map\n",
    "\n",
    "https://lolejeun.carto.com/builder/53ca87ee-c5f3-4163-88a3-272e6568e0dc/embed "
   ]
  },
  {
   "cell_type": "code",
   "execution_count": null,
   "metadata": {},
   "outputs": [],
   "source": []
  }
 ],
 "metadata": {
  "kernelspec": {
   "display_name": "Python 3",
   "language": "python",
   "name": "python3"
  },
  "language_info": {
   "codemirror_mode": {
    "name": "ipython",
    "version": 3
   },
   "file_extension": ".py",
   "mimetype": "text/x-python",
   "name": "python",
   "nbconvert_exporter": "python",
   "pygments_lexer": "ipython3",
   "version": "3.7.0"
  }
 },
 "nbformat": 4,
 "nbformat_minor": 2
}
