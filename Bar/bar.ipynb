{
 "cells": [
  {
   "cell_type": "markdown",
   "metadata": {},
   "source": [
    "# UM02 \n",
    "## Bar visualization "
   ]
  },
  {
   "cell_type": "markdown",
   "metadata": {},
   "source": [
    "### Import database\n"
   ]
  },
  {
   "cell_type": "code",
   "execution_count": 25,
   "metadata": {},
   "outputs": [],
   "source": [
    "import sqlite3\n",
    "\n",
    "#connection\n",
    "conn = sqlite3.connect('UTSEUS-shanghai-dianping.db')\n",
    "c = conn.cursor()\n",
    "\n",
    "#request \n",
    "c.execute('SELECT name, latitude, longitude, avg_rating, category, avg_price, address, product_score, decoration_score, service_score FROM venues, venue_categories WHERE venues.business_id = venue_categories.business_id')\n",
    "venues = c.fetchall()"
   ]
  },
  {
   "cell_type": "markdown",
   "metadata": {},
   "source": [
    "### Clean data and make dataframe"
   ]
  },
  {
   "cell_type": "code",
   "execution_count": 35,
   "metadata": {},
   "outputs": [],
   "source": [
    "import pandas as pd \n",
    "\n",
    "labelsD= ['name','latitude', 'longitude', 'scores','category', 'price', 'address', 'product', 'decoration', 'service']\n",
    "df_Dianping = pd.DataFrame.from_records(venues, columns=labelsD)\n",
    "\n",
    "# remove duplicate\n",
    "df_Dianping = df_Dianping.drop_duplicates(subset=['name'], keep='first')\n",
    "#only bar\n",
    "df_Bar = df_Dianping[['酒吧' in cat for cat in df_Dianping['category']]]\n",
    "#only price existing\n",
    "df_Bar = df_Bar[(df_Bar['price'] > 0)]\n",
    "#only ranking \n",
    "df_Bar = df_Bar[(df_Bar['scores'] > 0)]\n"
   ]
  },
  {
   "cell_type": "code",
   "execution_count": 32,
   "metadata": {},
   "outputs": [],
   "source": [
    "for i in range(427):\n",
    "    df_Bar['name'].values[i] = df_Bar['name'].values[i].split('(这是')[0]"
   ]
  },
  {
   "cell_type": "markdown",
   "metadata": {},
   "source": [
    "### Create a new csv "
   ]
  },
  {
   "cell_type": "code",
   "execution_count": 34,
   "metadata": {},
   "outputs": [],
   "source": [
    "df_Bar.to_csv('bar.csv', sep='\\t', encoding='utf-8')"
   ]
  }
 ],
 "metadata": {
  "kernelspec": {
   "display_name": "Python 3",
   "language": "python",
   "name": "python3"
  },
  "language_info": {
   "codemirror_mode": {
    "name": "ipython",
    "version": 3
   },
   "file_extension": ".py",
   "mimetype": "text/x-python",
   "name": "python",
   "nbconvert_exporter": "python",
   "pygments_lexer": "ipython3",
   "version": "3.7.0"
  }
 },
 "nbformat": 4,
 "nbformat_minor": 2
}
