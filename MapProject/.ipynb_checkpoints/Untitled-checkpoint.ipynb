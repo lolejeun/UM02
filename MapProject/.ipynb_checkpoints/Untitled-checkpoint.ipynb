{
 "cells": [
  {
   "cell_type": "markdown",
   "metadata": {},
   "source": [
    "# Map Project \n",
    "\n",
    "## Meet up group"
   ]
  },
  {
   "cell_type": "code",
   "execution_count": null,
   "metadata": {},
   "outputs": [],
   "source": [
    "import sqlite3\n",
    "\n",
    "#connection\n",
    "conn = sqlite3.connect('UTSEUS-world-meetup-groups.sqlite')\n",
    "c = conn.cursor()\n",
    "\n",
    "#request \n",
    "c.execute('SELECT id, name, category_id FROM groups, city_groups, group_category WHERE city_groups.city_id='1005776' AND groups.id=city_groups.group_id AND group_category.group_id = groups.id')"
   ]
  }
 ],
 "metadata": {
  "kernelspec": {
   "display_name": "Python 3",
   "language": "python",
   "name": "python3"
  },
  "language_info": {
   "codemirror_mode": {
    "name": "ipython",
    "version": 3
   },
   "file_extension": ".py",
   "mimetype": "text/x-python",
   "name": "python",
   "nbconvert_exporter": "python",
   "pygments_lexer": "ipython3",
   "version": "3.7.0"
  }
 },
 "nbformat": 4,
 "nbformat_minor": 2
}
